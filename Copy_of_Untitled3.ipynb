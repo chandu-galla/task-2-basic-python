{
  "nbformat": 4,
  "nbformat_minor": 0,
  "metadata": {
    "colab": {
      "name": "Copy of Untitled3.ipynb",
      "provenance": [],
      "authorship_tag": "ABX9TyMRF+vdHL2fCZ60W+SqhlUM",
      "include_colab_link": true
    },
    "kernelspec": {
      "name": "python3",
      "display_name": "Python 3"
    },
    "language_info": {
      "name": "python"
    }
  },
  "cells": [
    {
      "cell_type": "markdown",
      "metadata": {
        "id": "view-in-github",
        "colab_type": "text"
      },
      "source": [
        "<a href=\"https://colab.research.google.com/github/chandu-galla/task-2-basic-python/blob/main/Copy_of_Untitled3.ipynb\" target=\"_parent\"><img src=\"https://colab.research.google.com/assets/colab-badge.svg\" alt=\"Open In Colab\"/></a>"
      ]
    },
    {
      "cell_type": "code",
      "execution_count": null,
      "metadata": {
        "id": "qX-HmCGl9LoJ"
      },
      "outputs": [],
      "source": [
        "import openpyxl"
      ]
    },
    {
      "cell_type": "code",
      "source": [
        "wb=openpyxl.load_workbook(\"Input_1 - Python Developer Intern - Task 2 - Datasets.xlsx\")\n"
      ],
      "metadata": {
        "id": "hbeDyXBN9RtD"
      },
      "execution_count": null,
      "outputs": []
    },
    {
      "cell_type": "code",
      "source": [
        "print(wb.sheetnames)"
      ],
      "metadata": {
        "colab": {
          "base_uri": "https://localhost:8080/"
        },
        "id": "oYyM8zbp98Cv",
        "outputId": "a873b04f-5f5b-4113-8570-a9898cfd0e51"
      },
      "execution_count": null,
      "outputs": [
        {
          "output_type": "stream",
          "name": "stdout",
          "text": [
            "['in']\n"
          ]
        }
      ]
    },
    {
      "cell_type": "code",
      "source": [
        "ws=wb['in']"
      ],
      "metadata": {
        "id": "D1sXdmTs-OOX"
      },
      "execution_count": null,
      "outputs": []
    },
    {
      "cell_type": "code",
      "source": [
        "wb2=openpyxl.load_workbook(\"output.xlsx\")"
      ],
      "metadata": {
        "id": "6jvBfhKO_0l9"
      },
      "execution_count": null,
      "outputs": []
    },
    {
      "cell_type": "code",
      "source": [
        "print(wb2.sheetnames)"
      ],
      "metadata": {
        "colab": {
          "base_uri": "https://localhost:8080/"
        },
        "id": "oJXnVYLNGsvS",
        "outputId": "d87735ed-dd4a-4eef-9fe6-1bdaadbfc88f"
      },
      "execution_count": null,
      "outputs": [
        {
          "output_type": "stream",
          "name": "stdout",
          "text": [
            "['Sheet1']\n"
          ]
        }
      ]
    },
    {
      "cell_type": "code",
      "source": [
        "ws2=wb2['Sheet1']"
      ],
      "metadata": {
        "id": "b9981Bw-G_-w"
      },
      "execution_count": null,
      "outputs": []
    },
    {
      "cell_type": "code",
      "source": [
        "ws2['A1']='Name'\n",
        "ws2['B1']='Username'\n",
        "ws2['C1']='Chapter Tag'\n",
        "ws2['D1']='Test_Name'\n",
        "ws2['E1']='score'\n",
        "ws2['F1']='time taken'\n",
        "ws2['G1']='answered'\n",
        "ws2['H1']='correct'\n",
        "ws2['I1']='wrong'\n",
        "ws2['J1']='skipped'"
      ],
      "metadata": {
        "id": "NzyEnPtTHJ4k"
      },
      "execution_count": null,
      "outputs": []
    },
    {
      "cell_type": "code",
      "source": [
        "wb2.save(\"output.xlsx\")"
      ],
      "metadata": {
        "id": "e7IlRk7OIolh"
      },
      "execution_count": null,
      "outputs": []
    },
    {
      "cell_type": "code",
      "source": [
        "import pandas as pd"
      ],
      "metadata": {
        "id": "Hmd_8U7bJreW"
      },
      "execution_count": null,
      "outputs": []
    },
    {
      "cell_type": "code",
      "source": [
        "df=pd.read_excel('Input_1 - Python Developer Intern - Task 2 - Datasets.xlsx')"
      ],
      "metadata": {
        "id": "j1D5PYbcKEUn"
      },
      "execution_count": null,
      "outputs": []
    },
    {
      "cell_type": "code",
      "source": [
        "print(df)"
      ],
      "metadata": {
        "colab": {
          "base_uri": "https://localhost:8080/"
        },
        "id": "ZNIhhSgVLzFY",
        "outputId": "550d8d27-735a-4d45-9ebf-80bbbe989a34"
      },
      "execution_count": null,
      "outputs": [
        {
          "output_type": "stream",
          "name": "stdout",
          "text": [
            "        Name  id Chapter Tag Concept Test 1 - score  \\\n",
            "0    Darshan  34       C8S11                      4   \n",
            "1      Durga  35       C8S11                      3   \n",
            "2      Idhaz  36       C8S11                      5   \n",
            "3    Kishore  37       C8S11                      1   \n",
            "4       Mano  38       C8S11                      4   \n",
            "5     Nandha  39       C8S11                      3   \n",
            "6   Nandhini  40       C8S11                      5   \n",
            "7     Rubika  42       C8S11                      2   \n",
            "8      Saila  43       C8S11                      -   \n",
            "9    Shankar  44       C8S11                      1   \n",
            "10     Tarun  45       C8S11                      3   \n",
            "11    Thanis  46       C8S11                      5   \n",
            "12   Vignesh  47       C8S11                      3   \n",
            "\n",
            "   Concept Test 1 - time-taken (seconds) Concept Test 1 - answered  \\\n",
            "0                                    118                         4   \n",
            "1                                    886                         5   \n",
            "2                                    112                         5   \n",
            "3                                     29                         3   \n",
            "4                                    242                         5   \n",
            "5                                     55                         5   \n",
            "6                                    120                         5   \n",
            "7                                    138                         5   \n",
            "8                                      -                         -   \n",
            "9                                     65                         5   \n",
            "10                                    71                         5   \n",
            "11                                   199                         5   \n",
            "12                                   115                         5   \n",
            "\n",
            "   Concept Test 1- correct Concept Test 1- wrong Concept Test 1- skipped  \\\n",
            "0                        4                     0                       1   \n",
            "1                        3                     2                       0   \n",
            "2                        5                     0                       0   \n",
            "3                        1                     2                       2   \n",
            "4                        4                     1                       0   \n",
            "5                        3                     2                       0   \n",
            "6                        5                     0                       0   \n",
            "7                        2                     3                       0   \n",
            "8                        -                     -                       -   \n",
            "9                        1                     4                       0   \n",
            "10                       3                     2                       0   \n",
            "11                       5                     0                       0   \n",
            "12                       3                     2                       0   \n",
            "\n",
            "   Concept Test 2 - score  ... Full Chapter Test 1 - answered  \\\n",
            "0                       1  ...                             10   \n",
            "1                       3  ...                             10   \n",
            "2                       3  ...                             10   \n",
            "3                       -  ...                             10   \n",
            "4                       0  ...                             10   \n",
            "5                       0  ...                              9   \n",
            "6                       3  ...                             10   \n",
            "7                       0  ...                             10   \n",
            "8                       0  ...                              -   \n",
            "9                       1  ...                             10   \n",
            "10                      2  ...                              4   \n",
            "11                      2  ...                             10   \n",
            "12                      2  ...                             10   \n",
            "\n",
            "   Full Chapter Test 1- correct Full Chapter Test 1- wrong  \\\n",
            "0                             6                          4   \n",
            "1                             4                          6   \n",
            "2                             4                          6   \n",
            "3                             4                          6   \n",
            "4                             4                          6   \n",
            "5                             2                          7   \n",
            "6                             7                          3   \n",
            "7                             7                          3   \n",
            "8                             -                          -   \n",
            "9                             4                          6   \n",
            "10                            1                          3   \n",
            "11                            3                          7   \n",
            "12                            4                          6   \n",
            "\n",
            "   Full Chapter Test 1- skipped Full Chapter Test 2 - score  \\\n",
            "0                             0                           6   \n",
            "1                             0                           6   \n",
            "2                             0                           8   \n",
            "3                             0                           0   \n",
            "4                             0                           2   \n",
            "5                             1                           0   \n",
            "6                             0                           5   \n",
            "7                             0                           5   \n",
            "8                             -                           -   \n",
            "9                             0                           2   \n",
            "10                            6                           1   \n",
            "11                            0                           1   \n",
            "12                            0                           -   \n",
            "\n",
            "   Full Chapter Test 2 - time-taken (seconds) Full Chapter Test 2 - answered  \\\n",
            "0                                         397                             10   \n",
            "1                                         539                             10   \n",
            "2                                         583                             10   \n",
            "3                                          37                              9   \n",
            "4                                         657                             10   \n",
            "5                                          30                             10   \n",
            "6                                         691                             10   \n",
            "7                                         280                             10   \n",
            "8                                           -                              -   \n",
            "9                                         143                             10   \n",
            "10                                        139                              9   \n",
            "11                                         72                             10   \n",
            "12                                          -                              -   \n",
            "\n",
            "   Full Chapter Test 2- correct Full Chapter Test 2- wrong  \\\n",
            "0                             6                          4   \n",
            "1                             6                          4   \n",
            "2                             8                          2   \n",
            "3                             0                          9   \n",
            "4                             2                          8   \n",
            "5                             0                         10   \n",
            "6                             5                          5   \n",
            "7                             5                          5   \n",
            "8                             -                          -   \n",
            "9                             2                          8   \n",
            "10                            1                          8   \n",
            "11                            1                          9   \n",
            "12                            -                          -   \n",
            "\n",
            "   Full Chapter Test 2- skipped  \n",
            "0                             0  \n",
            "1                             0  \n",
            "2                             0  \n",
            "3                             1  \n",
            "4                             0  \n",
            "5                             0  \n",
            "6                             0  \n",
            "7                             0  \n",
            "8                             -  \n",
            "9                             0  \n",
            "10                            1  \n",
            "11                            0  \n",
            "12                            -  \n",
            "\n",
            "[13 rows x 57 columns]\n"
          ]
        }
      ]
    },
    {
      "cell_type": "code",
      "source": [
        "df2=pd.read_excel('output.xlsx')"
      ],
      "metadata": {
        "id": "YxZIgcFBL3eS"
      },
      "execution_count": null,
      "outputs": []
    },
    {
      "cell_type": "code",
      "source": [
        "print(df2)"
      ],
      "metadata": {
        "colab": {
          "base_uri": "https://localhost:8080/"
        },
        "id": "aW-iA5fEL-0j",
        "outputId": "8a490e05-cfd5-43df-cc88-3a9b41040b02"
      },
      "execution_count": null,
      "outputs": [
        {
          "output_type": "stream",
          "name": "stdout",
          "text": [
            "        Name  Username Chapter Tag  Test_Name  score  time taken  answered  \\\n",
            "0    Darshan      34.0       C8S11        NaN    NaN         NaN       NaN   \n",
            "1    Darshan      34.0       C8S11        NaN    NaN         NaN       NaN   \n",
            "2    Darshan      34.0       C8S11        NaN    NaN         NaN       NaN   \n",
            "3    Darshan      34.0       C8S11        NaN    NaN         NaN       NaN   \n",
            "4    Darshan      34.0       C8S11        NaN    NaN         NaN       NaN   \n",
            "..       ...       ...         ...        ...    ...         ...       ...   \n",
            "111  Vignesh      47.0       C8S11        NaN    NaN         NaN       NaN   \n",
            "112  Vignesh      47.0       C8S11        NaN    NaN         NaN       NaN   \n",
            "113  Vignesh      47.0       C8S11        NaN    NaN         NaN       NaN   \n",
            "114  Vignesh      47.0       C8S11        NaN    NaN         NaN       NaN   \n",
            "115  Vignesh      47.0       C8S11        NaN    NaN         NaN       NaN   \n",
            "\n",
            "     correct  wrong  skipped  \n",
            "0        NaN    NaN      NaN  \n",
            "1        NaN    NaN      NaN  \n",
            "2        NaN    NaN      NaN  \n",
            "3        NaN    NaN      NaN  \n",
            "4        NaN    NaN      NaN  \n",
            "..       ...    ...      ...  \n",
            "111      NaN    NaN      NaN  \n",
            "112      NaN    NaN      NaN  \n",
            "113      NaN    NaN      NaN  \n",
            "114      NaN    NaN      NaN  \n",
            "115      NaN    NaN      NaN  \n",
            "\n",
            "[116 rows x 10 columns]\n"
          ]
        }
      ]
    },
    {
      "cell_type": "code",
      "source": [
        "for i in range(2,10):\n",
        "  for j in range(1,3):\n",
        "    ws2.cell(row=i,column=j).value=ws.cell(row=2,column=j).value"
      ],
      "metadata": {
        "id": "k5pNxattMBQN"
      },
      "execution_count": null,
      "outputs": []
    },
    {
      "cell_type": "code",
      "source": [
        "for a in range(11,19):\n",
        "  for j in range(1,3):\n",
        "    ws2.cell(row=a,column=j).value=ws.cell(row=3,column=j).value"
      ],
      "metadata": {
        "id": "vpu3wG7POxQT"
      },
      "execution_count": null,
      "outputs": []
    },
    {
      "cell_type": "code",
      "source": [
        "for b in range(20,28):\n",
        "  for j in range(1,3):\n",
        "    ws2.cell(row=b,column=j).value=ws.cell(row=4,column=j).value"
      ],
      "metadata": {
        "id": "AVHBoXfUShJZ"
      },
      "execution_count": null,
      "outputs": []
    },
    {
      "cell_type": "code",
      "source": [
        "for c in range(29,37):\n",
        "  for j in range(1,3):\n",
        "    ws2.cell(row=c,column=j).value=ws.cell(row=5,column=j).value"
      ],
      "metadata": {
        "id": "d_UBZWHnXUe9"
      },
      "execution_count": null,
      "outputs": []
    },
    {
      "cell_type": "code",
      "source": [
        "for d in range(38,46):\n",
        "  for j in range(1,3):\n",
        "    ws2.cell(row=d,column=j).value=ws.cell(row=6,column=j).value"
      ],
      "metadata": {
        "id": "HZbUC4JUZNbS"
      },
      "execution_count": null,
      "outputs": []
    },
    {
      "cell_type": "code",
      "source": [
        "for e in range(47,55):\n",
        "  for j in range(1,3):\n",
        "    ws2.cell(row=e,column=j).value=ws.cell(row=7,column=j).value"
      ],
      "metadata": {
        "id": "eeVE3LRcZVaI"
      },
      "execution_count": null,
      "outputs": []
    },
    {
      "cell_type": "code",
      "source": [
        "for f in range(56,64):\n",
        "  for j in range(1,3):\n",
        "    ws2.cell(row=f,column=j).value=ws.cell(row=8,column=j).value"
      ],
      "metadata": {
        "id": "IyjssZ_sZot5"
      },
      "execution_count": null,
      "outputs": []
    },
    {
      "cell_type": "code",
      "source": [
        "for g in range(65,73):\n",
        "  for j in range(1,3):\n",
        "    ws2.cell(row=g,column=j).value=ws.cell(row=9,column=j).value"
      ],
      "metadata": {
        "id": "u8hP_w3WZwvV"
      },
      "execution_count": null,
      "outputs": []
    },
    {
      "cell_type": "code",
      "source": [
        "for h in range(74,82):\n",
        "  for j in range(1,3):\n",
        "    ws2.cell(row=h,column=j).value=ws.cell(row=10,column=j).value"
      ],
      "metadata": {
        "id": "8auOw8pAaA9_"
      },
      "execution_count": null,
      "outputs": []
    },
    {
      "cell_type": "code",
      "source": [
        "for k in range(83,91):\n",
        "  for j in range(1,3):\n",
        "    ws2.cell(row=k,column=j).value=ws.cell(row=11,column=j).value"
      ],
      "metadata": {
        "id": "ERI0hHymaLfE"
      },
      "execution_count": null,
      "outputs": []
    },
    {
      "cell_type": "code",
      "source": [
        "for l in range(92,100):\n",
        "  for j in range(1,3):\n",
        "    ws2.cell(row=l,column=j).value=ws.cell(row=12,column=j).value"
      ],
      "metadata": {
        "id": "ZjQzNmJ7agKm"
      },
      "execution_count": null,
      "outputs": []
    },
    {
      "cell_type": "code",
      "source": [
        "for m in range(101,109):\n",
        "  for j in range(1,3):\n",
        "    ws2.cell(row=m,column=j).value=ws.cell(row=13,column=j).value"
      ],
      "metadata": {
        "id": "F-YkM3wvasXX"
      },
      "execution_count": null,
      "outputs": []
    },
    {
      "cell_type": "code",
      "source": [
        "for n in range(110,118):\n",
        "  for j in range(1,3):\n",
        "    ws2.cell(row=n,column=j).value=ws.cell(row=14,column=j).value"
      ],
      "metadata": {
        "id": "qdwMCxWsa1hg"
      },
      "execution_count": null,
      "outputs": []
    },
    {
      "cell_type": "code",
      "source": [
        ""
      ],
      "metadata": {
        "id": "t0PDZTAQa8yE"
      },
      "execution_count": null,
      "outputs": []
    },
    {
      "cell_type": "code",
      "source": [
        "for k in range(0,111):\n",
        "  k=k+6\n",
        "  for l in range(0,117):\n",
        "    l=l+6\n",
        "    for x in range(5+k,10+l):\n",
        "        for n in range(2,14):\n",
        "          for o in range(5,10):\n",
        "            for y in range(4+k,9+l):\n",
        "              ws2.cell(row=x,column=o).value=ws.cell(row=n+1,column=y).value"
      ],
      "metadata": {
        "id": "i43pjk5hdVg_"
      },
      "execution_count": null,
      "outputs": []
    },
    {
      "cell_type": "code",
      "source": [
        ""
      ],
      "metadata": {
        "id": "SOm4vLc3lC_7"
      },
      "execution_count": null,
      "outputs": []
    }
  ]
}